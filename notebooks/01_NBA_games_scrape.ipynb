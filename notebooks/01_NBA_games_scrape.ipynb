{
 "cells": [
  {
   "cell_type": "markdown",
   "metadata": {},
   "source": [
    "## NBA Games Scrape"
   ]
  },
  {
   "cell_type": "markdown",
   "metadata": {},
   "source": [
    "The purpose of this notebook is to scrape the website basketball-reference.com for the box score statistics for every game in the 2014-2018 NBA seasons. To accomplish this task, the notebook initially queries each team's landing page, and grabs the links to the box score pages for each of the team's games. Then, the notebook queries each of those box score pages, to return each game's box score statistics. I grabbed both the initial team's stats and their opponent's stats, because I'm going to want the full representation of the game captured by the box score statistics I'm grabbing. Lastly, I put all these box score statistics into json files, by year and by team."
   ]
  },
  {
   "cell_type": "code",
   "execution_count": 1,
   "metadata": {},
   "outputs": [],
   "source": [
    "import os\n",
    "import bs4\n",
    "import csv\n",
    "import sys\n",
    "import json\n",
    "import time\n",
    "import requests\n",
    "from datetime import datetime\n",
    "from bs4 import BeautifulSoup"
   ]
  },
  {
   "cell_type": "code",
   "execution_count": 2,
   "metadata": {},
   "outputs": [],
   "source": [
    "team_handles_dict = {'Toronto Raptors': 'TOR',\n",
    "                     'Boston Celtics': 'BOS',\n",
    "                     'Philadelphia 76ers': 'PHI',\n",
    "                     'Cleveland Cavaliers': 'CLE',\n",
    "                     'Indiana Pacers': 'IND',\n",
    "                     'Miami Heat': 'MIA',\n",
    "                     'Milwaukee Bucks': 'MIL',\n",
    "                     'Washington Wizards': 'WAS',\n",
    "                     'Detroit Pistons': 'DET',\n",
    "                     'Charlotte Hornets': 'CHO',\n",
    "                     'Charlotte Bobcats': 'CHA',\n",
    "                     'New York Knicks': 'NYK',\n",
    "                     'Brooklyn Nets': 'BRK',\n",
    "                     'Chicago Bulls': 'CHI',\n",
    "                     'Orlando Magic': 'ORL',\n",
    "                     'Atlanta Hawks': 'ATL',\n",
    "                     'Houston Rockets': 'HOU',\n",
    "                     'Golden State Warriors': 'GSW',\n",
    "                     'Portland Trail Blazers': 'POR',\n",
    "                     'Oklahoma City Thunder': 'OKC',\n",
    "                     'Utah Jazz': 'UTA',\n",
    "                     'New Orleans Pelicans': 'NOP',\n",
    "                     'San Antonio Spurs': 'SAS',\n",
    "                     'Minnesota Timberwolves': 'MIN',\n",
    "                     'Denver Nuggets': 'DEN',\n",
    "                     'Los Angeles Clippers': 'LAC',\n",
    "                     'Los Angeles Lakers': 'LAL',\n",
    "                     'Sacramento Kings': 'SAC',\n",
    "                     'Dallas Mavericks': 'DAL',\n",
    "                     'Memphis Grizzlies': 'MEM',\n",
    "                     'Phoenix Suns': 'PHO'}"
   ]
  },
  {
   "cell_type": "code",
   "execution_count": 3,
   "metadata": {},
   "outputs": [],
   "source": [
    "home_away_dict = {0: 'away', 1: 'home'}\n"
   ]
  },
  {
   "cell_type": "markdown",
   "metadata": {},
   "source": [
    "#### get_game_id_for_team: \n",
    "- Returns a list of game ID's for a given team and season, by scraping the ID's from the team's landing page on basketball-reference.com"
   ]
  },
  {
   "cell_type": "code",
   "execution_count": 4,
   "metadata": {},
   "outputs": [],
   "source": [
    "def get_game_id_for_team(team_handle, year):\n",
    "\n",
    "    season_page = requests.get(f'https://www.basketball-reference.com/teams/{team_handle}/{year}_games.html')\n",
    "    season_page = BeautifulSoup(season_page.text, 'html.parser')\n",
    "    games = {}\n",
    "    for row in season_page.find('table', {'id': 'games'}).tbody.find_all('td'):\n",
    "        if row['data-stat'] == 'date_game':\n",
    "            game_date = row['csk'].replace('-', '')\n",
    "#             print(game_date)\n",
    "        if row['data-stat'] == 'game_location':\n",
    "            away = row.text\n",
    "#             print(len(away))\n",
    "            if not away:\n",
    "                games[game_date] = 'home'\n",
    "            else:\n",
    "                games[game_date] = 'away'\n",
    "    gid_list = [x + '0' + team_handle for x in games.keys() if games[x] == 'home']\n",
    "#     print(gid_list)\n",
    "    return gid_list"
   ]
  },
  {
   "cell_type": "markdown",
   "metadata": {},
   "source": [
    "#### get_team_stats: \n",
    "- Returns the counting stats for an individual game, for team playing in the game, by pulling the stats from the tables located on the box score page"
   ]
  },
  {
   "cell_type": "code",
   "execution_count": 5,
   "metadata": {},
   "outputs": [],
   "source": [
    "def get_team_stats(teams, page, gid):\n",
    "    team_stats_tables = []\n",
    "    teams_playing = []\n",
    "    for team_slug in teams:\n",
    "        box_score = page.find('div', attrs={'id': f'all_box-{team_slug}-game-basic'}).find('tfoot').find_all('td')\n",
    "        team_stats_tables.append(box_score)\n",
    "        teams_playing.append(team_slug.upper())\n",
    "    \n",
    "    game_stats = []\n",
    "    \n",
    "    for i, item in enumerate(team_stats_tables):\n",
    "        team_stats = [gid, teams_playing[i], home_away_dict[i]]\n",
    "        for row in item:\n",
    "            if row.attrs['data-stat'] != 'plus_minus':\n",
    "                team_stats.append(row.text)\n",
    "        game_stats.append(team_stats)\n",
    "    return game_stats"
   ]
  },
  {
   "cell_type": "markdown",
   "metadata": {},
   "source": [
    "#### get_box_score_stats: \n",
    "- Queries the page containing the box score for a single game, and returns the box score stats for both teams for a single game"
   ]
  },
  {
   "cell_type": "code",
   "execution_count": 6,
   "metadata": {},
   "outputs": [],
   "source": [
    "def get_box_score_stats(gid):\n",
    "    box_score_page = requests.get(f'https://www.basketball-reference.com/boxscores/{gid}.html')\n",
    "    box_score_page = BeautifulSoup(box_score_page.text, 'html.parser')\n",
    "    bs_page_teams = []\n",
    "    for item in box_score_page.find('div', attrs={'class', 'scorebox'}).find_all('strong'):\n",
    "        team_slug = team_handles_dict[item.text.replace('\\n', '')]\n",
    "#         bs_page_teams.append(team_slug.lower())\n",
    "        bs_page_teams.append(team_slug)\n",
    "#     print(bs_page_teams)\n",
    "    return get_team_stats(bs_page_teams, box_score_page, gid)"
   ]
  },
  {
   "cell_type": "markdown",
   "metadata": {},
   "source": [
    "I needed to separate 2014 into its own scrape because after the 2014 season, the Charlotte Bobcats changed their team name to the Charlotte Hornets. On basketball-reference.com, these two monikers have different team slugs to access their corresponding pages, hence the need to split the scrape into two parts."
   ]
  },
  {
   "cell_type": "code",
   "execution_count": 7,
   "metadata": {},
   "outputs": [],
   "source": [
    "years_to_gather= ['2014','2015', '2016', '2017', '2018']"
   ]
  },
  {
   "cell_type": "code",
   "execution_count": null,
   "metadata": {},
   "outputs": [
    {
     "name": "stdout",
     "output_type": "stream",
     "text": [
      "getting 2014 data\n",
      "started scraping games for TOR at 2019-12-05 22:28:54\n",
      "finished scraping games for TOR at 2019-12-05 22:30:56\n",
      "saved 2014 TOR game data in ../data/2014/TOR_games_list_2014.json\n",
      "\n",
      "\n",
      "started scraping games for BOS at 2019-12-05 22:30:56\n"
     ]
    }
   ],
   "source": [
    "# %%capture cap --no-stderr\n",
    "for year in years_to_gather:\n",
    "    os.makedirs(f\"../data/{year}\", exist_ok=True) \n",
    "    print(f\"getting {year} data\")\n",
    "    for team in team_handles_dict.values():\n",
    "        if year != '2014':\n",
    "            start = datetime.now().strftime(\"%Y-%m-%d %H:%M:%S\")\n",
    "            print(f\"started scraping games for {team} at {start}\")\n",
    "            if team != 'CHA':\n",
    "                gid_list = get_game_id_for_team(team, year)\n",
    "                game_stats = []\n",
    "                for gid in gid_list:\n",
    "                    game_stats.append(get_box_score_stats(gid))\n",
    "                    time.sleep(2)\n",
    "                finished = datetime.now().strftime(\"%Y-%m-%d %H:%M:%S\")\n",
    "                print(f\"finished scraping games for {team} at {finished}\")\n",
    "                team_games_list = f'../data/{year}/{team}_games_list_{year}.json'\n",
    "                with open(team_games_list, 'w') as f:\n",
    "                    json.dump(game_stats, f)\n",
    "                print(f\"saved {year} {team} game data in {team_games_list}\")\n",
    "            print(\"\\n\")\n",
    "        elif year == '2014':\n",
    "            start = datetime.now().strftime(\"%Y-%m-%d %H:%M:%S\")\n",
    "            os.makedirs(f\"../data/{year}/\", exist_ok=True)\n",
    "            print(f\"started scraping games for {team} at {start}\")\n",
    "            if team != 'CHO':\n",
    "                gid_list = get_game_id_for_team(team, year)\n",
    "                game_stats = []\n",
    "                for gid in gid_list:\n",
    "                    game_stats.append(get_box_score_stats(gid))\n",
    "                    time.sleep(2)\n",
    "                finished = datetime.now().strftime(\"%Y-%m-%d %H:%M:%S\")\n",
    "                print(f\"finished scraping games for {team} at {finished}\")\n",
    "                team_games_list = f'../data/{year}/{team}_games_list_{year}.json'\n",
    "                with open(team_games_list, 'w') as f:\n",
    "                    json.dump(game_stats, f)\n",
    "                print(f\"saved {year} {team} game data in {team_games_list}\")\n",
    "            print(\"\\n\")\n",
    "\n",
    "# with open('../output/season_scraping_logs.txt', 'w') as f:\n",
    "#     f.write(cap.stdout)"
   ]
  },
  {
   "cell_type": "code",
   "execution_count": null,
   "metadata": {},
   "outputs": [],
   "source": [
    "print(\"System and module version information:\")\n",
    "print(\"\\n\")\n",
    "print(f'Python version: {sys.version_info}')\n",
    "print(f'Beautiful Soup version: {bs4.__version__}')\n",
    "print(f'requests version: {requests.__version__}')\n",
    "print(f'last updated: {datetime.now().strftime(\"%Y-%m-%d %H:%M\")}')"
   ]
  }
 ],
 "metadata": {
  "kernelspec": {
   "display_name": "Python 3",
   "language": "python",
   "name": "python3"
  },
  "language_info": {
   "codemirror_mode": {
    "name": "ipython",
    "version": 3
   },
   "file_extension": ".py",
   "mimetype": "text/x-python",
   "name": "python",
   "nbconvert_exporter": "python",
   "pygments_lexer": "ipython3",
   "version": "3.7.1"
  }
 },
 "nbformat": 4,
 "nbformat_minor": 2
}
